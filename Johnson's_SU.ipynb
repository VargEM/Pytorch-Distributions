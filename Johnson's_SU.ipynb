{
  "nbformat": 4,
  "nbformat_minor": 0,
  "metadata": {
    "colab": {
      "name": "Johnson's SU.ipynb",
      "provenance": [],
      "collapsed_sections": []
    },
    "kernelspec": {
      "name": "python3",
      "display_name": "Python 3"
    },
    "language_info": {
      "name": "python"
    }
  },
  "cells": [
    {
      "cell_type": "code",
      "metadata": {
        "id": "cWMw0qyXbwUp"
      },
      "source": [
        "from numbers import Number\n",
        "import torch\n",
        "from torch.distributions import constraints\n",
        "from torch.distributions.distribution import Distribution\n",
        "from torch.distributions.utils import broadcast_all\n",
        "from torch.distributions import normal\n",
        "import math"
      ],
      "execution_count": 1,
      "outputs": []
    },
    {
      "cell_type": "code",
      "metadata": {
        "id": "N91OrXXcb2KL"
      },
      "source": [
        "class JohnsonSU(Distribution):\n",
        "    r\"\"\"\n",
        "    Creates a JohnsonSU distribution parameterized by :attr:`gamma` and :attr:`delta` and :attr:`mu`  and :attr:`sigma`.\n",
        "\n",
        "    Example::\n",
        "\n",
        "        >>> m = JohnsonSU(torch.tensor([2.0]), torch.tensor([8.0]), torch.tensor([4.0]), torch.tensor([1.0]), validate_args=True)\n",
        "        >>> m.sample()\n",
        "        tensor([3.8110])\n",
        "\n",
        "    Args:\n",
        "        gamma (float or Tensor): shape of the distribution\n",
        "        delta (float or Tensor): shape of the distribution\n",
        "        mu (float or Tensor): location of the distribution\n",
        "        sigma (float or Tensor): scale of the distribution\n",
        "    \"\"\"\n",
        "\n",
        "    arg_constraints = {'gamma': constraints.real, 'delta': constraints.positive,\n",
        "                       'mu': constraints.real, 'sigma': constraints.positive}\n",
        "    support = constraints.real\n",
        "\n",
        "    @property\n",
        "    def mean(self):\n",
        "        rhs = torch.mul(torch.mul(torch.exp(torch.div(1, 2 * torch.pow(self.delta, 2))),\n",
        "                                  self.sigma),\n",
        "                        torch.sinh(torch.div(self.gamma, self.delta)))\n",
        "        return torch.sub(self.mu, rhs)\n",
        "\n",
        "    @property\n",
        "    def variance(self):\n",
        "        first_term = torch.div(torch.exp(torch.div(-2 * self.gamma, self.delta)), 4)\n",
        "\n",
        "        second_term = torch.sub(torch.exp(torch.div(1, torch.pow(self.delta, 2))), 1)\n",
        "\n",
        "        third_term = torch.add(torch.add(torch.exp(torch.div(1, torch.pow(self.delta, 2))),\n",
        "                                         2 * torch.exp(torch.div(2 * self.gamma, self.delta))),\n",
        "                               torch.exp(torch.div(1 + 4 * torch.mul(self.gamma, self.delta),\n",
        "                                                   torch.pow(self.delta, 2))))\n",
        "        return torch.mul(first_term,\n",
        "                         torch.mul(second_term,\n",
        "                                   torch.mul(third_term,\n",
        "                                             torch.pow(self.sigma, 2))))\n",
        "\n",
        "    @property\n",
        "    def stddev(self):\n",
        "        return torch.sqrt(self.variance)\n",
        "\n",
        "    @property\n",
        "    def median(self):\n",
        "        return torch.add(self.mu, torch.mul(self.sigma, torch.sinh(torch.div(-self.gamma, self.delta))))\n",
        "\n",
        "    def __init__(self, gamma, delta, mu, sigma, validate_args=None):\n",
        "        self.gamma, self.delta, self.mu, self.sigma = broadcast_all(gamma, delta, mu, sigma)\n",
        "        if isinstance(gamma, Number) and isinstance(delta, Number) and isinstance(mu, Number) and isinstance(sigma,\n",
        "                                                                                                             Number):\n",
        "            batch_shape = torch.Size()\n",
        "        else:\n",
        "            batch_shape = self.mu.size()\n",
        "        super(JohnsonSU, self).__init__(batch_shape, validate_args=validate_args)\n",
        "\n",
        "    def expand(self, batch_shape, _instance=None):\n",
        "        new = self._get_checked_instance(JohnsonSU, _instance)\n",
        "        batch_shape = torch.Size(batch_shape)\n",
        "        new.gamma = self.gamma.expand(batch_shape)\n",
        "        new.delta = self.delta.expand(batch_shape)\n",
        "        new.mu = self.mu.expand(batch_shape)\n",
        "        new.sigma = self.sigma.expand(batch_shape)\n",
        "        super(JohnsonSU, new).__init__(batch_shape, validate_args=False)\n",
        "        new._validate_args = self._validate_args\n",
        "        return new\n",
        "\n",
        "    def rsample(self, sample_shape=torch.Size()):\n",
        "        shape = self._extended_shape(sample_shape)\n",
        "        U = torch.rand(shape)\n",
        "        return torch.add(torch.mul(self.sigma,\n",
        "                                   torch.sinh(torch.div(torch.sub(normal.Normal(0, 1).icdf(U),\n",
        "                                                                  self.gamma), self.delta))), self.mu)\n",
        "\n",
        "    def log_prob(self, value):\n",
        "        pi = torch.Tensor([math.pi])\n",
        "        numerator = self.delta * torch.exp((-1 / 2) * (torch.pow(\n",
        "            torch.add(self.gamma, torch.mul(self.delta, torch.arcsinh(torch.div(value - self.mu, self.sigma)))), 2)))\n",
        "        denominator = torch.mul(torch.sqrt(2 * pi),\n",
        "                                torch.sqrt(torch.pow(value - self.mu, 2) + torch.pow(self.sigma, 2)))\n",
        "        return torch.log(numerator / denominator)\n",
        "\n",
        "    def cdf(self, value):\n",
        "        return (1 + torch.erf(\n",
        "            torch.div(self.gamma + torch.mul(self.delta, torch.arcsinh(torch.div(value - self.mu, self.sigma))),\n",
        "                      torch.sqrt(torch.tensor([2.0]))))) / 2\n"
      ],
      "execution_count": 312,
      "outputs": []
    },
    {
      "cell_type": "code",
      "metadata": {
        "id": "3FLnqQQPxA2N"
      },
      "source": [
        "m = JohnsonSU(torch.tensor([1.0]), torch.tensor([8.0]), torch.tensor([4.0]), torch.tensor([1.0]), validate_args=True)"
      ],
      "execution_count": 303,
      "outputs": []
    },
    {
      "cell_type": "code",
      "metadata": {
        "colab": {
          "base_uri": "https://localhost:8080/"
        },
        "id": "dvVMSixc-mrN",
        "outputId": "f3a056b3-b21f-490a-b93f-5f11897d8752"
      },
      "source": [
        "m.sample()"
      ],
      "execution_count": 314,
      "outputs": [
        {
          "output_type": "execute_result",
          "data": {
            "text/plain": [
              "tensor([3.8110])"
            ]
          },
          "metadata": {
            "tags": []
          },
          "execution_count": 314
        }
      ]
    },
    {
      "cell_type": "code",
      "metadata": {
        "colab": {
          "base_uri": "https://localhost:8080/"
        },
        "id": "5XQpEKyjjMZp",
        "outputId": "587a6644-cc20-4d7e-a924-d5438b636e81"
      },
      "source": [
        "m.log_prob(torch.tensor([2.0]))"
      ],
      "execution_count": 304,
      "outputs": [
        {
          "output_type": "execute_result",
          "data": {
            "text/plain": [
              "tensor([-55.2858])"
            ]
          },
          "metadata": {
            "tags": []
          },
          "execution_count": 304
        }
      ]
    },
    {
      "cell_type": "code",
      "metadata": {
        "colab": {
          "base_uri": "https://localhost:8080/"
        },
        "id": "RYHN-GmajXt0",
        "outputId": "42b987e1-baf0-4c97-cd40-86e5f5b12006"
      },
      "source": [
        "m.cdf(torch.tensor([4.0]))"
      ],
      "execution_count": 305,
      "outputs": [
        {
          "output_type": "execute_result",
          "data": {
            "text/plain": [
              "tensor([0.8413])"
            ]
          },
          "metadata": {
            "tags": []
          },
          "execution_count": 305
        }
      ]
    },
    {
      "cell_type": "code",
      "metadata": {
        "colab": {
          "base_uri": "https://localhost:8080/"
        },
        "id": "CoMo7nsyCmhc",
        "outputId": "51cff10e-1b57-4f48-8bc6-6c322fd01783"
      },
      "source": [
        "m.median"
      ],
      "execution_count": 311,
      "outputs": [
        {
          "output_type": "execute_result",
          "data": {
            "text/plain": [
              "tensor([3.8747])"
            ]
          },
          "metadata": {
            "tags": []
          },
          "execution_count": 311
        }
      ]
    },
    {
      "cell_type": "code",
      "metadata": {
        "id": "wsOzofDlYbnM"
      },
      "source": [
        ""
      ],
      "execution_count": null,
      "outputs": []
    }
  ]
}