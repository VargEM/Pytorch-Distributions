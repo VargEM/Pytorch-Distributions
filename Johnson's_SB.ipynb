{
  "nbformat": 4,
  "nbformat_minor": 0,
  "metadata": {
    "colab": {
      "name": "Johnsons SB.ipynb",
      "provenance": []
    },
    "kernelspec": {
      "name": "python3",
      "display_name": "Python 3"
    },
    "language_info": {
      "name": "python"
    }
  },
  "cells": [
    {
      "cell_type": "code",
      "metadata": {
        "id": "q7NVeDXdHumz"
      },
      "source": [
        "from numbers import Number\n",
        "import torch\n",
        "from torch.distributions import constraints\n",
        "from torch.distributions.distribution import Distribution\n",
        "from torch.distributions.utils import broadcast_all\n",
        "from torch.distributions import normal\n",
        "import math"
      ],
      "execution_count": 1,
      "outputs": []
    },
    {
      "cell_type": "code",
      "metadata": {
        "id": "191Rn6XjHvYT"
      },
      "source": [
        "class JohnsonSB(Distribution):\n",
        "    r\"\"\"\n",
        "    Creates a JohnsonSB distribution parameterized by :attr:`gamma` and :attr:`delta` and :attr:`mu`  and :attr:`sigma`.\n",
        "\n",
        "    Example::\n",
        "\n",
        "        >>> m = JohnsonSB(torch.tensor([1.0]), torch.tensor([8.0]), torch.tensor([4.0]), torch.tensor([1.0]), validate_args=True)\n",
        "        >>> m.sample()\n",
        "        tensor([4.4506])\n",
        "\n",
        "    Args:\n",
        "        gamma (float or Tensor): shape of the distribution\n",
        "        delta (float or Tensor): shape of the distribution\n",
        "        mu (float or Tensor): location of the distribution\n",
        "        sigma (float or Tensor): scale of the distribution\n",
        "    \"\"\"\n",
        "\n",
        "    arg_constraints = {'gamma': constraints.real, 'delta': constraints.positive,\n",
        "                       'mu': constraints.real, 'sigma': constraints.positive}\n",
        "    support = constraints.real\n",
        "\n",
        "    def __init__(self, gamma, delta, mu, sigma, validate_args=None):\n",
        "        self.gamma, self.delta, self.mu, self.sigma = broadcast_all(gamma, delta, mu, sigma)\n",
        "        if isinstance(gamma, Number) and isinstance(delta, Number) and isinstance(mu, Number) and isinstance(sigma,\n",
        "                                                                                                             Number):\n",
        "            batch_shape = torch.Size()\n",
        "        else:\n",
        "            batch_shape = self.mu.size()\n",
        "        super(JohnsonSB, self).__init__(batch_shape, validate_args=validate_args)\n",
        "\n",
        "    def expand(self, batch_shape, _instance=None):\n",
        "        new = self._get_checked_instance(JohnsonSB, _instance)\n",
        "        batch_shape = torch.Size(batch_shape)\n",
        "        new.gamma = self.gamma.expand(batch_shape)\n",
        "        new.delta = self.delta.expand(batch_shape)\n",
        "        new.mu = self.mu.expand(batch_shape)\n",
        "        new.sigma = self.sigma.expand(batch_shape)\n",
        "        super(JohnsonSB, new).__init__(batch_shape, validate_args=False)\n",
        "        new._validate_args = self._validate_args\n",
        "        return new\n",
        "\n",
        "    def rsample(self, sample_shape=torch.Size()):\n",
        "        shape = self._extended_shape(sample_shape)\n",
        "        Z = torch.randn(shape)\n",
        "        Y = torch.div(torch.sub(Z, self.gamma), self.delta)\n",
        "        return torch.div(torch.add(torch.mul(self.sigma, torch.exp(Y)), torch.mul(self.mu, (torch.exp(Y) + 1))),\n",
        "                         torch.add(torch.exp(Y), 1))\n",
        "\n",
        "    def log_prob(self, value):\n",
        "        if value > self.mu and value < self.mu + self.sigma:\n",
        "            pi = torch.Tensor([math.pi])\n",
        "            numerator = self.delta * self.sigma * torch.exp((-1 / 2) * (torch.pow(torch.add(self.gamma,\n",
        "                                                                                            torch.mul(self.delta,\n",
        "                                                                                                      torch.log(\n",
        "                                                                                                          torch.div(\n",
        "                                                                                                              value - self.mu,\n",
        "                                                                                                              self.mu + self.sigma - value)))),\n",
        "                                                                                  2)))\n",
        "            denominator = torch.mul(torch.sqrt(2 * pi), torch.mul(value - self.mu, self.mu + self.sigma - value))\n",
        "            return torch.log(numerator / denominator)\n",
        "        else:\n",
        "            return torch.Tensor([0.0])\n",
        "\n",
        "    def cdf(self, value):\n",
        "        if value > self.mu and value < self.mu + self.sigma / 2:\n",
        "            return (1 / 2) * torch.erfc(-torch.div(self.gamma + torch.mul(self.delta, torch.log(\n",
        "                torch.div(value - torch.mu, self.mu + self.sigma - value))), torch.sqrt(torch.tensor([2.0]))))\n",
        "        if value >= self.mu + self.sigma / 2 and value < self.mu + self.sigma:\n",
        "            return (1 / 2) * (1 + torch.erf(torch.div(\n",
        "                self.gamma + torch.mul(self.delta, torch.log(torch.div(value - self.mu, self.mu + self.sigma - value))),\n",
        "                torch.sqrt(torch.tensor([2.0])))))\n",
        "        if value >= self.mu + self.sigma:\n",
        "            return torch.Tensor([1.0])\n",
        "        else:\n",
        "            return torch.Tensor([0.0])\n"
      ],
      "execution_count": 34,
      "outputs": []
    },
    {
      "cell_type": "code",
      "metadata": {
        "id": "UKjKtfcrRUkK"
      },
      "source": [
        ""
      ],
      "execution_count": null,
      "outputs": []
    }
  ]
}